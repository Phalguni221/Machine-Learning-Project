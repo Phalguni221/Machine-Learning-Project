{
  "nbformat": 4,
  "nbformat_minor": 0,
  "metadata": {
    "colab": {
      "provenance": [],
      "authorship_tag": "ABX9TyP1rUoan6y+Q/xdDK+vNklq",
      "include_colab_link": true
    },
    "kernelspec": {
      "name": "python3",
      "display_name": "Python 3"
    },
    "language_info": {
      "name": "python"
    }
  },
  "cells": [
    {
      "cell_type": "markdown",
      "metadata": {
        "id": "view-in-github",
        "colab_type": "text"
      },
      "source": [
        "<a href=\"https://colab.research.google.com/github/Phalguni221/Machine-Learning-Project/blob/main/OurPro.ipynb\" target=\"_parent\"><img src=\"https://colab.research.google.com/assets/colab-badge.svg\" alt=\"Open In Colab\"/></a>"
      ]
    },
    {
      "cell_type": "code",
      "execution_count": null,
      "metadata": {
        "id": "OWfTU2qw-n4S"
      },
      "outputs": [],
      "source": [
        "Hi"
      ]
    },
    {
      "cell_type": "code",
      "source": [],
      "metadata": {
        "id": "137_hkut-qlE"
      },
      "execution_count": null,
      "outputs": []
    }
  ]
}